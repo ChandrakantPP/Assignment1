{
 "cells": [
  {
   "cell_type": "markdown",
   "id": "f8d22302-d3c2-4c8a-a543-d982920e3057",
   "metadata": {},
   "source": [
    "Q.1 Create one variable containing following type of data"
   ]
  },
  {
   "cell_type": "code",
   "execution_count": 1,
   "id": "eac048fa-013b-4808-bd75-78d82a125bda",
   "metadata": {},
   "outputs": [],
   "source": [
    "a = \"chandrakant\""
   ]
  },
  {
   "cell_type": "code",
   "execution_count": 2,
   "id": "07bd998a-4772-4d0e-93b4-02617e7f0a70",
   "metadata": {},
   "outputs": [],
   "source": [
    "b = [2,3.5,\"chandrakant\",True]"
   ]
  },
  {
   "cell_type": "code",
   "execution_count": 4,
   "id": "28457b7c-da79-4f7c-9d23-a7800c2f692f",
   "metadata": {},
   "outputs": [],
   "source": [
    "c = 4.8"
   ]
  },
  {
   "cell_type": "code",
   "execution_count": 5,
   "id": "76c09f19-0a91-4f80-8a4c-12c91d08f2ec",
   "metadata": {},
   "outputs": [],
   "source": [
    "d = (\"chandrakant\", \"dipesh\")"
   ]
  },
  {
   "cell_type": "markdown",
   "id": "e1fb6e8e-8722-400b-97de-1aeab75c0c9d",
   "metadata": {},
   "source": [
    "Q.2 Given are some following variables containing data"
   ]
  },
  {
   "cell_type": "markdown",
   "id": "b738cfbe-089b-4c04-992a-a40a037db307",
   "metadata": {},
   "source": [
    "Ans:- (1) String, (2) List, (3) List, (4) num"
   ]
  },
  {
   "cell_type": "markdown",
   "id": "e546d4ba-1828-47a2-868c-98c0c21b60c2",
   "metadata": {},
   "source": [
    "Q.3 Explain the use of the following operators using an example:"
   ]
  },
  {
   "cell_type": "markdown",
   "id": "3a5e69e9-a667-4dba-a6f1-c09b8959148e",
   "metadata": {},
   "source": [
    "(1)  / :- given quotient of two numbers result always has float type "
   ]
  },
  {
   "cell_type": "code",
   "execution_count": 7,
   "id": "297693a3-ff09-4a7e-8b18-7397499820dc",
   "metadata": {},
   "outputs": [
    {
     "data": {
      "text/plain": [
       "2.0"
      ]
     },
     "execution_count": 7,
     "metadata": {},
     "output_type": "execute_result"
    }
   ],
   "source": [
    "10/5"
   ]
  },
  {
   "cell_type": "markdown",
   "id": "f75919c1-9959-491c-bace-8e50ccbff28d",
   "metadata": {},
   "source": [
    "(2)  % :- given reminder of two number"
   ]
  },
  {
   "cell_type": "code",
   "execution_count": 8,
   "id": "4fde313c-dfa2-4981-a97b-4b057bbedeb8",
   "metadata": {},
   "outputs": [
    {
     "data": {
      "text/plain": [
       "2"
      ]
     },
     "execution_count": 8,
     "metadata": {},
     "output_type": "execute_result"
    }
   ],
   "source": [
    "5%3"
   ]
  },
  {
   "cell_type": "markdown",
   "id": "539edee1-e646-4fe6-b34b-03641d48221f",
   "metadata": {},
   "source": [
    "(3)  // :- given quotient of two numbers result always has integer type"
   ]
  },
  {
   "cell_type": "code",
   "execution_count": 9,
   "id": "a3fef6fe-1fdc-465d-9a28-38dbf817a6bb",
   "metadata": {},
   "outputs": [
    {
     "data": {
      "text/plain": [
       "2"
      ]
     },
     "execution_count": 9,
     "metadata": {},
     "output_type": "execute_result"
    }
   ],
   "source": [
    "10//5"
   ]
  },
  {
   "cell_type": "markdown",
   "id": "3b96b382-d4d9-426c-bb16-e119208d1944",
   "metadata": {},
   "source": [
    "(4) ** :- used for calculating exponential of one on another number"
   ]
  },
  {
   "cell_type": "code",
   "execution_count": 10,
   "id": "c5879638-39d1-4e5c-bdd7-2fa4ad24acd5",
   "metadata": {},
   "outputs": [
    {
     "data": {
      "text/plain": [
       "512"
      ]
     },
     "execution_count": 10,
     "metadata": {},
     "output_type": "execute_result"
    }
   ],
   "source": [
    "8**3"
   ]
  },
  {
   "cell_type": "markdown",
   "id": "0c6094b8-715b-49d0-988f-2c2185777333",
   "metadata": {},
   "source": [
    "Q.4 Create a list of length 10 of your choice containing multiple types of data. Using for loop print the\n",
    "element and its data type."
   ]
  },
  {
   "cell_type": "code",
   "execution_count": 12,
   "id": "3c721fac-160c-4832-9dd3-2cfa91aaecaf",
   "metadata": {},
   "outputs": [
    {
     "name": "stdout",
     "output_type": "stream",
     "text": [
      "30\n",
      "<class 'int'>\n",
      "30.5\n",
      "<class 'float'>\n",
      "240\n",
      "<class 'int'>\n",
      "True\n",
      "<class 'bool'>\n",
      "chandrakant\n",
      "<class 'str'>\n",
      "dipesh\n",
      "<class 'str'>\n",
      "(7+4j)\n",
      "<class 'complex'>\n",
      "sourabh\n",
      "<class 'str'>\n",
      "40.5\n",
      "<class 'float'>\n",
      "50.5\n",
      "<class 'float'>\n"
     ]
    }
   ],
   "source": [
    "list=[30,30.5,240,True,\"chandrakant\",\"dipesh\",7+4j,\"sourabh\",40.5,50.5]\n",
    "for k in list:\n",
    "    print(k)\n",
    "    print(type(k))"
   ]
  },
  {
   "cell_type": "markdown",
   "id": "7be99aee-eb0e-475c-a428-d50bb18fb1b8",
   "metadata": {},
   "source": [
    "Q.5 Using a while loop, verify if the number A is purely divisible by number B and if so then how many\n",
    "times it can be divisible."
   ]
  },
  {
   "cell_type": "code",
   "execution_count": 15,
   "id": "cac52875-f197-4de2-8229-cd8dbf5e16a5",
   "metadata": {},
   "outputs": [
    {
     "name": "stdin",
     "output_type": "stream",
     "text": [
      " 10\n",
      " 3\n"
     ]
    },
    {
     "name": "stdout",
     "output_type": "stream",
     "text": [
      "number is not divisible\n"
     ]
    }
   ],
   "source": [
    "a=int(input())\n",
    "b=int(input())\n",
    "c=0\n",
    "if a/b==0:\n",
    "    while(a/b>=b and type(a/b)==int):\n",
    "        c+=1\n",
    "        a/=b\n",
    "    c\n",
    "else:\n",
    "    print(\"number is not divisible\")"
   ]
  },
  {
   "cell_type": "markdown",
   "id": "c3518c8e-a676-4670-a6f0-0afdebf8f71e",
   "metadata": {},
   "source": [
    "Q.6 Create a list containing 25 int type data. Using for loop and if-else condition print if the element is\n",
    "divisible by 3 or not."
   ]
  },
  {
   "cell_type": "code",
   "execution_count": 16,
   "id": "0487b98e-05e4-49c9-9638-fce46d31c56e",
   "metadata": {},
   "outputs": [],
   "source": [
    "list=[11,12,13,14,15,16,17,18,19,20,21,22,23,24,25,26,27,28,29,30,31,32,33,34,35]\n",
    "list1=[]\n",
    "list2=[]\n",
    "for i in list:\n",
    "    if i%3==0:\n",
    "        list1.append(i)\n",
    "    else:\n",
    "            list2.append(i)"
   ]
  },
  {
   "cell_type": "code",
   "execution_count": 17,
   "id": "0750dd23-075e-4eb5-b538-a778fac9e56a",
   "metadata": {},
   "outputs": [
    {
     "data": {
      "text/plain": [
       "[12, 15, 18, 21, 24, 27, 30, 33]"
      ]
     },
     "execution_count": 17,
     "metadata": {},
     "output_type": "execute_result"
    }
   ],
   "source": [
    "list1"
   ]
  },
  {
   "cell_type": "code",
   "execution_count": 18,
   "id": "0e4265e1-616a-4720-89dc-a91b91b3ab67",
   "metadata": {},
   "outputs": [
    {
     "data": {
      "text/plain": [
       "[11, 13, 14, 16, 17, 19, 20, 22, 23, 25, 26, 28, 29, 31, 32, 34, 35]"
      ]
     },
     "execution_count": 18,
     "metadata": {},
     "output_type": "execute_result"
    }
   ],
   "source": [
    "list2"
   ]
  },
  {
   "cell_type": "markdown",
   "id": "e6e5cbb5-1f1c-4365-b5e5-a2adc38ba046",
   "metadata": {},
   "source": [
    "Q.7 What do you understand about mutable and immutable data types? Give examples for both showing\n",
    "this property."
   ]
  },
  {
   "cell_type": "markdown",
   "id": "1d8a37be-3166-49b3-9de1-40a5a40e0abf",
   "metadata": {},
   "source": [
    "mutable:- if you are able to change something at a particular index for a particular collection or a data types is known as mutable."
   ]
  },
  {
   "cell_type": "code",
   "execution_count": 19,
   "id": "12d8d094-ca93-4bf5-9fff-144947c948a6",
   "metadata": {},
   "outputs": [],
   "source": [
    "b = [2,2,3,4,5,6,6,'chandrakant','dipesh',True,4+7j]"
   ]
  },
  {
   "cell_type": "code",
   "execution_count": 20,
   "id": "7849d153-68b7-4274-823c-1c14a4a86189",
   "metadata": {},
   "outputs": [],
   "source": [
    "b[8] = 'sourabh'"
   ]
  },
  {
   "cell_type": "code",
   "execution_count": 21,
   "id": "8d7c8056-e353-4de9-9907-5593141d4d9a",
   "metadata": {},
   "outputs": [
    {
     "data": {
      "text/plain": [
       "[2, 2, 3, 4, 5, 6, 6, 'chandrakant', 'sourabh', True, (4+7j)]"
      ]
     },
     "execution_count": 21,
     "metadata": {},
     "output_type": "execute_result"
    }
   ],
   "source": [
    "b"
   ]
  },
  {
   "cell_type": "markdown",
   "id": "c31d1d65-bf64-4428-b935-3bef415f6934",
   "metadata": {},
   "source": [
    "immutable:- if you are not able to change something at a particular index for a particular collection is known as immutable."
   ]
  },
  {
   "cell_type": "code",
   "execution_count": 22,
   "id": "6a6f35ac-2f71-422e-bab8-4631e29c1e20",
   "metadata": {},
   "outputs": [],
   "source": [
    "c = \"chandrakant\""
   ]
  },
  {
   "cell_type": "code",
   "execution_count": 23,
   "id": "8d9bdb32-ca03-43b6-a881-1199a48522f7",
   "metadata": {},
   "outputs": [
    {
     "data": {
      "text/plain": [
       "'chandrakant'"
      ]
     },
     "execution_count": 23,
     "metadata": {},
     "output_type": "execute_result"
    }
   ],
   "source": [
    "c"
   ]
  },
  {
   "cell_type": "code",
   "execution_count": 24,
   "id": "73a6600c-d631-4849-ab2f-c2e2f54fc85b",
   "metadata": {},
   "outputs": [
    {
     "ename": "TypeError",
     "evalue": "'str' object does not support item assignment",
     "output_type": "error",
     "traceback": [
      "\u001b[0;31m---------------------------------------------------------------------------\u001b[0m",
      "\u001b[0;31mTypeError\u001b[0m                                 Traceback (most recent call last)",
      "Cell \u001b[0;32mIn[24], line 1\u001b[0m\n\u001b[0;32m----> 1\u001b[0m \u001b[43mc\u001b[49m\u001b[43m[\u001b[49m\u001b[38;5;241;43m1\u001b[39;49m\u001b[43m]\u001b[49m\u001b[38;5;241m=\u001b[39md\n",
      "\u001b[0;31mTypeError\u001b[0m: 'str' object does not support item assignment"
     ]
    }
   ],
   "source": [
    "c[1]=d"
   ]
  },
  {
   "cell_type": "code",
   "execution_count": null,
   "id": "ea3edab4-bf3e-49a5-bdac-bce1513829a6",
   "metadata": {},
   "outputs": [],
   "source": []
  }
 ],
 "metadata": {
  "kernelspec": {
   "display_name": "Python 3 (ipykernel)",
   "language": "python",
   "name": "python3"
  },
  "language_info": {
   "codemirror_mode": {
    "name": "ipython",
    "version": 3
   },
   "file_extension": ".py",
   "mimetype": "text/x-python",
   "name": "python",
   "nbconvert_exporter": "python",
   "pygments_lexer": "ipython3",
   "version": "3.10.8"
  }
 },
 "nbformat": 4,
 "nbformat_minor": 5
}
